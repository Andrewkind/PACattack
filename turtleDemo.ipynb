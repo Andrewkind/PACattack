{
 "metadata": {
  "name": "",
  "signature": "sha256:abb796a1aac17c0f99794b597802589c19d9f2bbd8a4f9316944f15ed38e38e0"
 },
 "nbformat": 3,
 "nbformat_minor": 0,
 "worksheets": [
  {
   "cells": [
    {
     "cell_type": "code",
     "collapsed": false,
     "input": [
      "import pacturtle\n",
      "\n",
      "T = pacturtle.pacturtle()\n",
      "T.rotate(90)"
     ],
     "language": "python",
     "metadata": {},
     "outputs": [
      {
       "output_type": "stream",
       "stream": "stdout",
       "text": [
        "PAC: rotate 90\n",
        "line 200 140\n",
        "rotate 20\n"
       ]
      }
     ],
     "prompt_number": 1
    }
   ],
   "metadata": {}
  }
 ]
}